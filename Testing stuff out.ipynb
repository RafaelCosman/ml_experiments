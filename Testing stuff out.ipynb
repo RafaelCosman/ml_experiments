{
 "cells": [
  {
   "cell_type": "code",
   "execution_count": null,
   "metadata": {
    "collapsed": false
   },
   "outputs": [],
   "source": [
    "import tensorflow as tf\n",
    "import numpy as np\n",
    "\n",
    "sess = tf.InteractiveSession()"
   ]
  },
  {
   "cell_type": "code",
   "execution_count": null,
   "metadata": {
    "collapsed": false
   },
   "outputs": [],
   "source": [
    "# Create 100 phony x, y data points in NumPy, y = x * 0.1 + 0.3\n",
    "x_data = np.random.rand(100).astype(np.float32)\n",
    "y_data = x_data * 42 + 0.3\n",
    "\n",
    "# Try to find values for W and b that compute y_data = W * x_data + b\n",
    "# (We know that W should be 0.1 and b 0.3, but Tensorflow will\n",
    "# figure that out for us.)\n",
    "W = tf.Variable(tf.random_uniform([1], -1.0, 1.0))\n",
    "b = tf.Variable(tf.zeros([1]))\n",
    "y = W * x_data + b\n",
    "\n",
    "# Minimize the mean squared errors.\n",
    "loss = tf.reduce_mean(tf.square(y - y_data))\n",
    "\n",
    "# Before starting, initialize the variables.  We will 'run' this first.\n",
    "init = tf.initialize_all_variables()\n",
    "\n",
    "# Launch the graph.\n",
    "sess = tf.Session()\n",
    "sess.run(init)\n",
    "\n",
    "print(loss)\n",
    "print(sess.run(loss))\n",
    "print(w)\n",
    "print(sess.run(w))\n",
    "grads = tf.gradients(loss, w)\n",
    "print(grads)\n",
    "sess.run(grads)\n",
    "\n",
    "\n",
    "print(sess.run(W))\n",
    "print(sess.run(b))"
   ]
  },
  {
   "cell_type": "code",
   "execution_count": 19,
   "metadata": {
    "collapsed": false
   },
   "outputs": [
    {
     "name": "stdout",
     "output_type": "stream",
     "text": [
      "('firstDerivative: ', -388.0)\n",
      "('secondDerivative: ', 2.0)\n",
      "('firstDerivative: ', -0.0)\n",
      "('secondDerivative: ', 2.0)\n",
      "('firstDerivative: ', -0.0)\n",
      "('secondDerivative: ', 2.0)\n",
      "('firstDerivative: ', -0.0)\n",
      "('secondDerivative: ', 2.0)\n",
      "('firstDerivative: ', -0.0)\n",
      "('secondDerivative: ', 2.0)\n",
      "('firstDerivative: ', -0.0)\n",
      "('secondDerivative: ', 2.0)\n",
      "('firstDerivative: ', -0.0)\n",
      "('secondDerivative: ', 2.0)\n",
      "('firstDerivative: ', -0.0)\n",
      "('secondDerivative: ', 2.0)\n",
      "('firstDerivative: ', -0.0)\n",
      "('secondDerivative: ', 2.0)\n",
      "('firstDerivative: ', -0.0)\n",
      "('secondDerivative: ', 2.0)\n",
      "200.0\n"
     ]
    }
   ],
   "source": [
    "x = tf.Variable(6.0)\n",
    "\n",
    "sess.run(tf.initialize_all_variables())\n",
    "\n",
    "loss = tf.square(200.0 - x)\n",
    "\n",
    "for i in xrange(10):\n",
    "    firstDerivative = tf.gradients(loss, x)[0]\n",
    "    print(\"firstDerivative: \", sess.run(firstDerivative))\n",
    "    secondDerivative = tf.gradients(firstDerivative, x)[0]\n",
    "    print(\"secondDerivative: \", sess.run(secondDerivative))\n",
    "    sess.run(x.assign_sub(firstDerivative / secondDerivative))\n",
    "    sess.run(x)\n",
    "    \n",
    "print(sess.run(x))"
   ]
  },
  {
   "cell_type": "code",
   "execution_count": 20,
   "metadata": {
    "collapsed": false
   },
   "outputs": [
    {
     "name": "stdout",
     "output_type": "stream",
     "text": [
      "Extracting MNIST_data/train-images-idx3-ubyte.gz\n",
      "Extracting MNIST_data/train-labels-idx1-ubyte.gz\n",
      "Extracting MNIST_data/t10k-images-idx3-ubyte.gz\n",
      "Extracting MNIST_data/t10k-labels-idx1-ubyte.gz\n"
     ]
    }
   ],
   "source": [
    "from tensorflow.examples.tutorials.mnist import input_data\n",
    "mnist = input_data.read_data_sets(\"MNIST_data/\", one_hot=True)"
   ]
  },
  {
   "cell_type": "code",
   "execution_count": null,
   "metadata": {
    "collapsed": true
   },
   "outputs": [],
   "source": []
  }
 ],
 "metadata": {
  "kernelspec": {
   "display_name": "Python 2",
   "language": "python",
   "name": "python2"
  },
  "language_info": {
   "codemirror_mode": {
    "name": "ipython",
    "version": 2
   },
   "file_extension": ".py",
   "mimetype": "text/x-python",
   "name": "python",
   "nbconvert_exporter": "python",
   "pygments_lexer": "ipython2",
   "version": "2.7.6"
  }
 },
 "nbformat": 4,
 "nbformat_minor": 0
}
