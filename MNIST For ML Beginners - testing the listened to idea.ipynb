{
 "cells": [
  {
   "cell_type": "code",
   "execution_count": 3,
   "metadata": {
    "collapsed": false
   },
   "outputs": [
    {
     "name": "stdout",
     "output_type": "stream",
     "text": [
      "Extracting MNIST_data/train-images-idx3-ubyte.gz\n",
      "Extracting MNIST_data/train-labels-idx1-ubyte.gz\n",
      "Extracting MNIST_data/t10k-images-idx3-ubyte.gz\n",
      "Extracting MNIST_data/t10k-labels-idx1-ubyte.gz\n"
     ]
    }
   ],
   "source": [
    "from tensorflow.examples.tutorials.mnist import input_data\n",
    "mnist = input_data.read_data_sets(\"MNIST_data/\", one_hot=True)"
   ]
  },
  {
   "cell_type": "code",
   "execution_count": 4,
   "metadata": {
    "collapsed": false
   },
   "outputs": [],
   "source": [
    "import tensorflow as tf\n",
    "import tensorflow\n",
    "\n",
    "import numpy as np\n",
    "np.set_printoptions(precision=3)\n",
    "np.set_printoptions(suppress=False)\n",
    "\n",
    "import matplotlib\n",
    "matplotlib.use(\"Pdf\")\n",
    "import matplotlib.pyplot as plt\n",
    "%matplotlib inline"
   ]
  },
  {
   "cell_type": "code",
   "execution_count": 12,
   "metadata": {
    "collapsed": true
   },
   "outputs": [],
   "source": [
    "x = tf.placeholder(tf.float32, [None, 784])\n",
    "W1 = tf.Variable(tf.zeros([784, 100]))\n",
    "b1 = tf.Variable(tf.zeros([100]))\n",
    "W2 = tf.Variable(tf.zeros([100, 10]))\n",
    "b2 = tf.Variable(tf.zeros([10]))\n",
    "\n",
    "y = tf.nn.softmax(tf.matmul(\n",
    "        (tf.matmul(x, W1) + b1)\n",
    "        , W2) + b2)\n",
    "y_ = tf.placeholder(tf.float32, [None, 10])\n",
    "cross_entropy = -tf.reduce_sum(y_*tf.log(y))\n",
    "\n",
    "correct_prediction = tf.equal(tf.argmax(y,1), tf.argmax(y_,1))\n",
    "accuracy = tf.reduce_mean(tf.cast(correct_prediction, tf.float32))"
   ]
  },
  {
   "cell_type": "code",
   "execution_count": 13,
   "metadata": {
    "collapsed": true
   },
   "outputs": [],
   "source": [
    "train_step = tf.train.GradientDescentOptimizer(0.1).minimize(cross_entropy)\n",
    "init = tf.initialize_all_variables()"
   ]
  },
  {
   "cell_type": "code",
   "execution_count": 14,
   "metadata": {
    "collapsed": false
   },
   "outputs": [
    {
     "name": "stderr",
     "output_type": "stream",
     "text": [
      "Exception AssertionError: AssertionError() in <bound method InteractiveSession.__del__ of <tensorflow.python.client.session.InteractiveSession object at 0x7f6ed805fed0>> ignored\n"
     ]
    }
   ],
   "source": [
    "sess = tf.InteractiveSession()"
   ]
  },
  {
   "cell_type": "code",
   "execution_count": 16,
   "metadata": {
    "collapsed": false
   },
   "outputs": [
    {
     "name": "stdout",
     "output_type": "stream",
     "text": [
      "(0, 0.085714288)\n",
      "(1, 0.10571428)\n",
      "(2, 0.12)\n",
      "(3, 0.090000004)\n",
      "(4, 0.10571428)\n",
      "(5, 0.1)\n",
      "(6, 0.12)\n",
      "(7, 0.090000004)\n",
      "(8, 0.09142857)\n",
      "(9, 0.10571428)\n",
      "(10, 0.090000004)\n",
      "(11, 0.085714288)\n",
      "(12, 0.10571428)\n",
      "(13, 0.10428572)\n",
      "(14, 0.1)\n",
      "(15, 0.085714288)\n",
      "(16, 0.09142857)\n",
      "(17, 0.1)\n",
      "(18, 0.11)\n",
      "(19, 0.10428572)\n"
     ]
    }
   ],
   "source": [
    "sess.run(init)\n",
    "for i in range(20):\n",
    "    batch_xs, batch_ys = mnist.train.next_batch(100)\n",
    "    sess.run(train_step, feed_dict={x: batch_xs, y_: batch_ys})\n",
    "    \n",
    "    batch_size = 700\n",
    "    print(i, sess.run(accuracy, feed_dict={x: mnist.test.images[0:batch_size], y_: mnist.test.labels[0:batch_size]}))"
   ]
  },
  {
   "cell_type": "code",
   "execution_count": 11,
   "metadata": {
    "collapsed": false
   },
   "outputs": [
    {
     "ename": "NameError",
     "evalue": "name 'Wdelta' is not defined",
     "output_type": "error",
     "traceback": [
      "\u001b[1;31m\u001b[0m",
      "\u001b[1;31mNameError\u001b[0mTraceback (most recent call last)",
      "\u001b[1;32m<ipython-input-11-4d3ac712e12a>\u001b[0m in \u001b[0;36m<module>\u001b[1;34m()\u001b[0m\n\u001b[0;32m      6\u001b[0m         \u001b[0mi\u001b[0m\u001b[1;33m,\u001b[0m\u001b[1;33m\u001b[0m\u001b[0m\n\u001b[0;32m      7\u001b[0m         \u001b[0msess\u001b[0m\u001b[1;33m.\u001b[0m\u001b[0mrun\u001b[0m\u001b[1;33m(\u001b[0m\u001b[0maccuracy\u001b[0m\u001b[1;33m,\u001b[0m \u001b[0mfeed_dict\u001b[0m\u001b[1;33m=\u001b[0m\u001b[1;33m{\u001b[0m\u001b[0mx\u001b[0m\u001b[1;33m:\u001b[0m \u001b[0mmnist\u001b[0m\u001b[1;33m.\u001b[0m\u001b[0mtest\u001b[0m\u001b[1;33m.\u001b[0m\u001b[0mimages\u001b[0m\u001b[1;33m[\u001b[0m\u001b[1;36m0\u001b[0m\u001b[1;33m:\u001b[0m\u001b[0mbatch_size\u001b[0m\u001b[1;33m]\u001b[0m\u001b[1;33m,\u001b[0m \u001b[0my_\u001b[0m\u001b[1;33m:\u001b[0m \u001b[0mmnist\u001b[0m\u001b[1;33m.\u001b[0m\u001b[0mtest\u001b[0m\u001b[1;33m.\u001b[0m\u001b[0mlabels\u001b[0m\u001b[1;33m[\u001b[0m\u001b[1;36m0\u001b[0m\u001b[1;33m:\u001b[0m\u001b[0mbatch_size\u001b[0m\u001b[1;33m]\u001b[0m\u001b[1;33m}\u001b[0m\u001b[1;33m)\u001b[0m\u001b[1;33m,\u001b[0m\u001b[1;33m\u001b[0m\u001b[0m\n\u001b[1;32m----> 8\u001b[1;33m         \u001b[0msess\u001b[0m\u001b[1;33m.\u001b[0m\u001b[0mrun\u001b[0m\u001b[1;33m(\u001b[0m\u001b[0mtf\u001b[0m\u001b[1;33m.\u001b[0m\u001b[0mreduce_sum\u001b[0m\u001b[1;33m(\u001b[0m\u001b[0mtf\u001b[0m\u001b[1;33m.\u001b[0m\u001b[0mabs\u001b[0m\u001b[1;33m(\u001b[0m\u001b[0mWdelta\u001b[0m\u001b[1;33m)\u001b[0m\u001b[1;33m)\u001b[0m\u001b[1;33m,\u001b[0m \u001b[0mfeed_dict\u001b[0m\u001b[1;33m=\u001b[0m\u001b[1;33m{\u001b[0m\u001b[0mx\u001b[0m\u001b[1;33m:\u001b[0m \u001b[0mmnist\u001b[0m\u001b[1;33m.\u001b[0m\u001b[0mtest\u001b[0m\u001b[1;33m.\u001b[0m\u001b[0mimages\u001b[0m\u001b[1;33m[\u001b[0m\u001b[1;36m0\u001b[0m\u001b[1;33m:\u001b[0m\u001b[0mbatch_size\u001b[0m\u001b[1;33m]\u001b[0m\u001b[1;33m,\u001b[0m \u001b[0my_\u001b[0m\u001b[1;33m:\u001b[0m \u001b[0mmnist\u001b[0m\u001b[1;33m.\u001b[0m\u001b[0mtest\u001b[0m\u001b[1;33m.\u001b[0m\u001b[0mlabels\u001b[0m\u001b[1;33m[\u001b[0m\u001b[1;36m0\u001b[0m\u001b[1;33m:\u001b[0m\u001b[0mbatch_size\u001b[0m\u001b[1;33m]\u001b[0m\u001b[1;33m}\u001b[0m\u001b[1;33m)\u001b[0m\u001b[1;33m\u001b[0m\u001b[0m\n\u001b[0m\u001b[0;32m      9\u001b[0m     )\n\u001b[0;32m     10\u001b[0m \u001b[1;33m\u001b[0m\u001b[0m\n",
      "\u001b[1;31mNameError\u001b[0m: name 'Wdelta' is not defined"
     ]
    }
   ],
   "source": [
    "sess.run(init)\n",
    "learningRate = 0.001\n",
    "for i in range(10):\n",
    "    batch_size = 700\n",
    "    print(\n",
    "        i,\n",
    "        sess.run(accuracy, feed_dict={x: mnist.test.images[0:batch_size], y_: mnist.test.labels[0:batch_size]}),\n",
    "        sess.run(tf.reduce_sum(tf.abs(Wdelta)), feed_dict={x: mnist.test.images[0:batch_size], y_: mnist.test.labels[0:batch_size]})\n",
    "    )\n",
    "    \n",
    "    batch_xs, batch_ys = mnist.train.next_batch(100)\n",
    "    \n",
    "    Wdelta = -learningRate * tf.gradients(cross_entropy, W)[0]\n",
    "    bdelta = -learningRate * tf.gradients(cross_entropy, b)[0]\n",
    "    \n",
    "    sess.run(W.assign_add(Wdelta), feed_dict={x: batch_xs, y_: batch_ys})\n",
    "    sess.run(b.assign_add(bdelta), feed_dict={x: batch_xs, y_: batch_ys})"
   ]
  },
  {
   "cell_type": "code",
   "execution_count": 12,
   "metadata": {
    "collapsed": false,
    "scrolled": false
   },
   "outputs": [
    {
     "name": "stdout",
     "output_type": "stream",
     "text": [
      "(0, 0.085714288)\n",
      "[ -2.000e+00  -3.000e+00   1.000e+00   1.000e+00   1.000e+00   2.000e+00\n",
      "   2.000e+00   5.364e-07   1.000e+00  -3.000e+00]\n",
      "[ 0.  0.  0.  0.  0.  0.  0.  0.  0.  0.]\n",
      "(1, 0.31142858)\n",
      "[ 1.194 -1.973  0.04  -0.124  0.309 -1.834  1.368  3.667 -3.811  1.163]\n",
      "[  2.018e-07   1.426e-07   2.160e-07   1.902e-07   1.114e-08   2.271e-07\n",
      "   1.311e-07   2.449e-07   1.151e-07   1.737e-07]\n",
      "(2, 0.37857142)\n",
      "[ 1.158  1.791  1.437 -0.433 -0.009 -1.493 -2.945 -1.357  6.119 -4.267]\n",
      "[  8.478e-08   9.612e-08   1.473e-07   5.997e-08   6.334e-08  -5.129e-08\n",
      "   2.443e-09   1.259e-07   1.294e-07   4.625e-08]\n"
     ]
    }
   ],
   "source": [
    "sess.run(init)\n",
    "learningRate = 0.001\n",
    "\n",
    "for i in range(3):\n",
    "    batch_size = 700\n",
    "    print(\n",
    "            i,\n",
    "            sess.run(accuracy, feed_dict={x: mnist.test.images[0:batch_size], y_: mnist.test.labels[0:batch_size]})\n",
    "        )\n",
    "    \n",
    "    batch_xs, batch_ys = mnist.train.next_batch(100)\n",
    "    feed_dict={x: batch_xs, y_: batch_ys}\n",
    "    \n",
    "    \n",
    "    firstDerivative = tf.gradients(cross_entropy, b)[0]\n",
    "    print(sess.run(firstDerivative, feed_dict=feed_dict))\n",
    "    secondDerivative = tf.gradients(firstDerivative, b)[0]\n",
    "    print(sess.run(secondDerivative, feed_dict=feed_dict))\n",
    "    secondDerivative = tf.abs(secondDerivative)\n",
    "    secondDerivative = tf.add(secondDerivative, 1)\n",
    "    delta = -learningRate * tf.div(firstDerivative, secondDerivative)\n",
    "    \n",
    "    sess.run(b.assign_add(delta), feed_dict=feed_dict)\n",
    "    \n",
    "    \n",
    "    firstDerivative = tf.gradients(cross_entropy, W)[0]\n",
    "    secondDerivative = tf.gradients(firstDerivative, W)[0]\n",
    "    secondDerivative = tf.abs(secondDerivative)\n",
    "    secondDerivative = tf.add(secondDerivative, 0.01)\n",
    "    delta = -learningRate * firstDerivative#tf.div(firstDerivative, secondDerivative)\n",
    "    \n",
    "    sess.run(W.assign_add(delta), feed_dict=feed_dict)"
   ]
  },
  {
   "cell_type": "code",
   "execution_count": 13,
   "metadata": {
    "collapsed": false
   },
   "outputs": [
    {
     "name": "stdout",
     "output_type": "stream",
     "text": [
      "5.96046e-07\n"
     ]
    }
   ],
   "source": [
    "print(sess.run(tf.reduce_sum(W)))"
   ]
  },
  {
   "cell_type": "code",
   "execution_count": 14,
   "metadata": {
    "collapsed": false
   },
   "outputs": [],
   "source": [
    "batch_xs, batch_ys = mnist.train.next_batch(100)\n",
    "feed_dict={x: batch_xs, y_: batch_ys}"
   ]
  },
  {
   "cell_type": "code",
   "execution_count": 15,
   "metadata": {
    "collapsed": false
   },
   "outputs": [
    {
     "name": "stdout",
     "output_type": "stream",
     "text": [
      "[-0.283 -0.283 -2.492  1.038  0.79  -2.216  2.811 -6.239  0.33   6.545]\n"
     ]
    }
   ],
   "source": [
    "print(sess.run(tf.gradients(cross_entropy, b)[0], feed_dict=feed_dict))"
   ]
  },
  {
   "cell_type": "code",
   "execution_count": 16,
   "metadata": {
    "collapsed": false
   },
   "outputs": [
    {
     "name": "stdout",
     "output_type": "stream",
     "text": [
      "[-0.     0.003 -0.002 -0.    -0.001  0.001 -0.    -0.002 -0.003  0.006]\n"
     ]
    }
   ],
   "source": [
    "print(sess.run(b))"
   ]
  },
  {
   "cell_type": "code",
   "execution_count": 17,
   "metadata": {
    "collapsed": false
   },
   "outputs": [
    {
     "name": "stdout",
     "output_type": "stream",
     "text": [
      "0.0183696\n"
     ]
    }
   ],
   "source": [
    "print(sess.run(tf.reduce_max(W)))"
   ]
  },
  {
   "cell_type": "code",
   "execution_count": 18,
   "metadata": {
    "collapsed": false
   },
   "outputs": [
    {
     "name": "stdout",
     "output_type": "stream",
     "text": [
      "4.00597e-05\n"
     ]
    }
   ],
   "source": [
    "dW = tf.gradients(cross_entropy, W)[0]\n",
    "ddW = tf.gradients(dW, W)[0]\n",
    "print(sess.run(tf.reduce_max(ddW), feed_dict=feed_dict))"
   ]
  },
  {
   "cell_type": "code",
   "execution_count": 19,
   "metadata": {
    "collapsed": false
   },
   "outputs": [
    {
     "name": "stdout",
     "output_type": "stream",
     "text": [
      "[-0.     0.003 -0.002 -0.    -0.001  0.001 -0.    -0.002 -0.003  0.006]\n",
      "[-0.283 -0.283 -2.492  1.038  0.79  -2.216  2.811 -6.239  0.33   6.545]\n",
      "[  1.520e-07   1.058e-07   1.407e-07   9.704e-08   1.120e-07   9.464e-08\n",
      "  -5.813e-08  -4.298e-08   1.367e-07   4.871e-08]\n"
     ]
    }
   ],
   "source": [
    "db = tf.gradients(cross_entropy, b)[0]\n",
    "ddb = tf.gradients(db, b)[0]\n",
    "\n",
    "print(sess.run(b, feed_dict=feed_dict))\n",
    "print(sess.run(db, feed_dict=feed_dict))\n",
    "print(sess.run(ddb, feed_dict=feed_dict))"
   ]
  },
  {
   "cell_type": "code",
   "execution_count": 20,
   "metadata": {
    "collapsed": false
   },
   "outputs": [
    {
     "data": {
      "text/plain": [
       "array([-0.   , -0.097, -0.002, -0.   , -0.001,  0.001, -0.   , -0.002,\n",
       "       -0.003,  0.006], dtype=float32)"
      ]
     },
     "execution_count": 20,
     "metadata": {},
     "output_type": "execute_result"
    }
   ],
   "source": [
    "sess.run(b.assign_add([0, -.1, 0, 0, 0, 0, 0, 0, 0, 0]))"
   ]
  },
  {
   "cell_type": "code",
   "execution_count": 21,
   "metadata": {
    "collapsed": false
   },
   "outputs": [
    {
     "name": "stdout",
     "output_type": "stream",
     "text": [
      "[-0.    -0.097 -0.002 -0.    -0.001  0.001 -0.    -0.002 -0.003  0.006]\n",
      "[-0.189 -1.044 -2.404  1.123  0.863 -2.134  2.893 -6.166  0.417  6.641]\n",
      "[  2.348e-07   1.644e-07   3.167e-07   1.214e-07   1.034e-07   5.394e-08\n",
      "   1.112e-07   1.369e-07   1.454e-07   2.489e-07]\n",
      "0.47\n"
     ]
    }
   ],
   "source": [
    "db = tf.gradients(cross_entropy, b)[0]\n",
    "ddb = tf.gradients(db, b)[0]\n",
    "\n",
    "print(sess.run(b, feed_dict=feed_dict))\n",
    "print(sess.run(db, feed_dict=feed_dict))\n",
    "print(sess.run(ddb, feed_dict=feed_dict))\n",
    "print(sess.run(accuracy, feed_dict=feed_dict))"
   ]
  },
  {
   "cell_type": "code",
   "execution_count": 33,
   "metadata": {
    "collapsed": false
   },
   "outputs": [
    {
     "data": {
      "image/png": "[encoded data removed]",
      "text/plain": [
       "<matplotlib.figure.Figure at 0x7f9b6c39b190>"
      ]
     },
     "metadata": {},
     "output_type": "display_data"
    }
   ],
   "source": [
    "plt.subplot(311)\n",
    "plt.plot(sess.run(b, feed_dict=feed_dict))\n",
    "\n",
    "plt.subplot(312)\n",
    "plt.plot(sess.run(db, feed_dict=feed_dict))\n",
    "\n",
    "plt.subplot(313)\n",
    "plt.plot(sess.run(ddb, feed_dict=feed_dict))\n",
    "\n",
    "plt.ylabel('b')\n",
    "plt.show()"
   ]
  },
  {
   "cell_type": "code",
   "execution_count": 56,
   "metadata": {
    "collapsed": false
   },
   "outputs": [
    {
     "data": {
      "image/png": "[encoded data removed]",
      "text/plain": [
       "<matplotlib.figure.Figure at 0x7f9abf93ffd0>"
      ]
     },
     "metadata": {},
     "output_type": "display_data"
    }
   ],
   "source": [
    "db = tf.gradients(cross_entropy, b)[0]\n",
    "ddb = tf.gradients(db, b)[0]\n",
    "\n",
    "dbs = []\n",
    "ddbs = []\n",
    "ces = []\n",
    "\n",
    "for i in xrange(200):\n",
    "    sess.run(b.assign_add([0, -.1, 0, 0, 0, 0, 0, 0, 0, 0]))\n",
    "    \"\"\"\n",
    "    print(sess.run(b, feed_dict=feed_dict))\n",
    "    print(sess.run(db, feed_dict=feed_dict))\n",
    "    print(sess.run(ddb, feed_dict=feed_dict))\n",
    "    print(sess.run(accuracy, feed_dict=feed_dict))\n",
    "    \"\"\"\n",
    "    ces.append(sess.run(cross_entropy, feed_dict=feed_dict))\n",
    "    dbs.append(sess.run(db, feed_dict=feed_dict)[1])\n",
    "    ddbs.append(sess.run(ddb, feed_dict=feed_dict)[1])\n",
    "\n",
    "\n",
    "plt.subplot(311)\n",
    "plt.plot(ces)\n",
    "\n",
    "plt.subplot(312)\n",
    "plt.plot(dbs)\n",
    "\n",
    "plt.subplot(313)\n",
    "plt.plot(ddbs)\n",
    "\n",
    "\n",
    "plt.show()"
   ]
  },
  {
   "cell_type": "code",
   "execution_count": null,
   "metadata": {
    "collapsed": false
   },
   "outputs": [],
   "source": []
  },
  {
   "cell_type": "code",
   "execution_count": 2,
   "metadata": {
    "collapsed": false
   },
   "outputs": [
    {
     "ename": "NameError",
     "evalue": "name 'tf' is not defined",
     "output_type": "error",
     "traceback": [
      "\u001b[1;31m\u001b[0m",
      "\u001b[1;31mNameError\u001b[0mTraceback (most recent call last)",
      "\u001b[1;32m<ipython-input-2-a1f7dc727648>\u001b[0m in \u001b[0;36m<module>\u001b[1;34m()\u001b[0m\n\u001b[1;32m----> 1\u001b[1;33m \u001b[0mtest\u001b[0m \u001b[1;33m=\u001b[0m \u001b[0mtf\u001b[0m\u001b[1;33m.\u001b[0m\u001b[0mVariable\u001b[0m\u001b[1;33m(\u001b[0m\u001b[1;36m5\u001b[0m\u001b[1;33m)\u001b[0m\u001b[1;33m\u001b[0m\u001b[0m\n\u001b[0m\u001b[0;32m      2\u001b[0m \u001b[0mfunc\u001b[0m \u001b[1;33m=\u001b[0m \u001b[0mtf\u001b[0m\u001b[1;33m.\u001b[0m\u001b[0mmul\u001b[0m\u001b[1;33m(\u001b[0m\u001b[0mtest\u001b[0m\u001b[1;33m,\u001b[0m \u001b[0mtf\u001b[0m\u001b[1;33m.\u001b[0m\u001b[0mmul\u001b[0m\u001b[1;33m(\u001b[0m\u001b[0mtest\u001b[0m\u001b[1;33m,\u001b[0m \u001b[0mtest\u001b[0m\u001b[1;33m)\u001b[0m\u001b[1;33m)\u001b[0m\u001b[1;33m\u001b[0m\u001b[0m\n\u001b[0;32m      3\u001b[0m \u001b[0mdfunc\u001b[0m \u001b[1;33m=\u001b[0m \u001b[0mtf\u001b[0m\u001b[1;33m.\u001b[0m\u001b[0mgradients\u001b[0m\u001b[1;33m(\u001b[0m\u001b[0mfunc\u001b[0m\u001b[1;33m,\u001b[0m \u001b[0mtest\u001b[0m\u001b[1;33m)\u001b[0m\u001b[1;33m[\u001b[0m\u001b[1;36m0\u001b[0m\u001b[1;33m]\u001b[0m\u001b[1;33m\u001b[0m\u001b[0m\n\u001b[0;32m      4\u001b[0m \u001b[0mddfunc\u001b[0m \u001b[1;33m=\u001b[0m \u001b[0mtf\u001b[0m\u001b[1;33m.\u001b[0m\u001b[0mgradients\u001b[0m\u001b[1;33m(\u001b[0m\u001b[0mdfunc\u001b[0m\u001b[1;33m,\u001b[0m \u001b[0mtest\u001b[0m\u001b[1;33m)\u001b[0m\u001b[1;33m[\u001b[0m\u001b[1;36m0\u001b[0m\u001b[1;33m]\u001b[0m\u001b[1;33m\u001b[0m\u001b[0m\n\u001b[0;32m      5\u001b[0m \u001b[1;32mprint\u001b[0m\u001b[1;33m(\u001b[0m\u001b[0msess\u001b[0m\u001b[1;33m.\u001b[0m\u001b[0mrun\u001b[0m\u001b[1;33m(\u001b[0m\u001b[0mfunc\u001b[0m\u001b[1;33m)\u001b[0m\u001b[1;33m)\u001b[0m\u001b[1;33m\u001b[0m\u001b[0m\n",
      "\u001b[1;31mNameError\u001b[0m: name 'tf' is not defined"
     ]
    }
   ],
   "source": [
    "test = tf.Variable(5)\n",
    "func = tf.mul(test, tf.mul(test, test))\n",
    "dfunc = tf.gradients(func, test)[0]\n",
    "ddfunc = tf.gradients(dfunc, test)[0]\n",
    "print(sess.run(func))\n",
    "print(sess.run(dfunc, feed_dict={test:[5, 6]}))\n",
    "print(sess.run(ddfunc, feed_dict={test:[5, 6]}))"
   ]
  },
  {
   "cell_type": "code",
   "execution_count": null,
   "metadata": {
    "collapsed": true
   },
   "outputs": [],
   "source": []
  }
 ],
 "metadata": {
  "kernelspec": {
   "display_name": "Python 2",
   "language": "python",
   "name": "python2"
  },
  "language_info": {
   "codemirror_mode": {
    "name": "ipython",
    "version": 2
   },
   "file_extension": ".py",
   "mimetype": "text/x-python",
   "name": "python",
   "nbconvert_exporter": "python",
   "pygments_lexer": "ipython2",
   "version": "2.7.6"
  }
 },
 "nbformat": 4,
 "nbformat_minor": 0
}
